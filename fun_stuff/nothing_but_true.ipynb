{
 "cells": [
  {
   "metadata": {},
   "cell_type": "markdown",
   "source": [
    "# Nothing But `True`\n",
    "\n",
    "## The Hook\n",
    "\n",
    "Here's the idea: the expression `True` in Python evaluates numerically to `1`.\n",
    "\n",
    "I found it quite amusing the first time I saw it. Today, I showed off my pitiful party trick to my friend Coen:"
   ],
   "id": "1d772889e380b201"
  },
  {
   "metadata": {
    "ExecuteTime": {
     "end_time": "2025-10-03T06:04:39.234944Z",
     "start_time": "2025-10-03T06:04:39.225225Z"
    }
   },
   "cell_type": "code",
   "source": "print(True + True)",
   "id": "5e3d861e5d4f8b5a",
   "outputs": [
    {
     "name": "stdout",
     "output_type": "stream",
     "text": [
      "2\n"
     ]
    }
   ],
   "execution_count": 20
  },
  {
   "metadata": {},
   "cell_type": "markdown",
   "source": [
    "2! How silly!\n",
    "\n",
    "But Coen, inspired by the profound boring of Mech 325, had bigger plans.\n",
    "\n",
    "After I played around combining different operators with `True` to print out different numbers, he asked a question that sent me into a math rabbit hole: \"Can you get it to output $e$ (Euler's number) using the limit definition?\"\n",
    "\n",
    "You betcha.\n",
    "\n",
    "So we do our best to construct a big number in place of infinity. I call it 'true' to add to the confusion. Then we can use the expression:\n",
    "\n",
    "$$e = \\lim_{n \\to \\infty} (1 + \\frac1{n})^n$$"
   ],
   "id": "9a5027cc4136553f"
  },
  {
   "metadata": {
    "ExecuteTime": {
     "end_time": "2025-10-03T06:04:39.277982Z",
     "start_time": "2025-10-03T06:04:39.270212Z"
    }
   },
   "cell_type": "code",
   "source": [
    "true = ((True + True) ** (True + True)) ** (True + True)\n",
    "true = (True + True + True + True) ** true\n",
    "\n",
    "(True + True / true) ** true"
   ],
   "id": "e40d74f63e4aff3e",
   "outputs": [
    {
     "data": {
      "text/plain": [
       "2.7182818281425956"
      ]
     },
     "execution_count": 21,
     "metadata": {},
     "output_type": "execute_result"
    }
   ],
   "execution_count": 21
  },
  {
   "metadata": {},
   "cell_type": "markdown",
   "source": [
    "And it works! Close enough.\n",
    "\n",
    "Next we wanted to approximate pi using an infinite sum.\n",
    "\n",
    "Here's the link because I don't feel like typing it out: https://en.wikipedia.org/wiki/Leibniz_formula_for_%CF%80\n",
    "\n",
    "We need two variables here: one for the iteration index, and one to contain the sum. I use 'true' and 'TRUE' as variable names, respectively, in keeping with the deliberately confusing coding style. We had to get creative with the expressions for the large number (used to approximate infinity) since if it was too small the value does not converge nicely and if it is too large it takes forever to run."
   ],
   "id": "9637e9388da539c0"
  },
  {
   "metadata": {
    "ExecuteTime": {
     "end_time": "2025-10-03T06:04:41.325986Z",
     "start_time": "2025-10-03T06:04:39.316047Z"
    }
   },
   "cell_type": "code",
   "source": [
    "true = False\n",
    "TRUE = False\n",
    "while (true < ((True + True) ** (True + True)) ** (True + True) ** (True + True + True)\n",
    "       * (True << (True + True + True + True + True + True))):\n",
    "    TRUE += (False - True) ** true / ((True + True) * true + True)\n",
    "    true += True\n",
    "\n",
    "TRUE * (True + True + True + True)"
   ],
   "id": "5eef5cddbbe30632",
   "outputs": [
    {
     "data": {
      "text/plain": [
       "3.1415924151711234"
      ]
     },
     "execution_count": 22,
     "metadata": {},
     "output_type": "execute_result"
    }
   ],
   "execution_count": 22
  },
  {
   "metadata": {},
   "cell_type": "markdown",
   "source": [
    "Not bad! Feel free to play around with the nuber of loops (the value in the while loop) to see how the value varies.\n",
    "\n",
    "But when we looked to make other numbers, and I suggested trying to construct my 8-digit student number (which I will not disclose), I realized that it is quite tricky to construct a large number with a relatively concise expression involving `True`s.\n",
    "\n",
    "We can grow the value quickly using exponentiation (`**`) and bit-shifting (`<<`), and technically we can make any rational number by just summing `True`s over and over$^\\ast$... But it isn't satisfying.\n",
    "\n",
    "_$^\\ast$ If you forget about floating point precision_"
   ],
   "id": "a95917b8c5a48247"
  },
  {
   "metadata": {},
   "cell_type": "markdown",
   "source": [
    "## The Puzzle\n",
    "\n",
    "Here's the challenge I want to solve: How can we express a number, purely in terms of Python operators and the \"True\" expression. That is, **no literals**!\n",
    "\n",
    "To constrain the problem, let's say we can only use the operators listed in https://docs.python.org/3/reference/lexical_analysis.html#operators, allowing parentheses, and let's aim to be able to construct any **arbitrary integer** with as few `True`s as possible.\n",
    "\n",
    "I used a while loop in my previous approximation for pi, but let's only allow expressions with operators for this problem, to keep things constrained. No variables either.\n",
    "\n",
    "Here are the rules in bullet points:\n",
    "1. Only operators, `True`s and parentheses allowed!\n",
    "2. Any [Python operators](https://docs.python.org/3/reference/lexical_analysis.html#operators) are allowed, unary or binary.\n",
    "3. We must be able to construct any integer.\n",
    "4. Parentheses are allowed at will, but more concise expressions, following spacing conventions, are preferred (let's say as a tiebreaker).\n",
    "\n",
    "\n",
    "Let's move forward with a few strategies."
   ],
   "id": "a02fb7a143ebe232"
  },
  {
   "metadata": {},
   "cell_type": "markdown",
   "source": [
    "### Strategy 1: Just Add Shit Together\n",
    "\n",
    "To start, it's nice to know that we have _some_ strategy that can build any number. Let's just add `True` together repeatedly until we reach the number needed. For negative integers, we can subtract instead. For zero, we can do `True - True`."
   ],
   "id": "74637c12f669284a"
  },
  {
   "metadata": {
    "ExecuteTime": {
     "end_time": "2025-10-03T06:04:41.367853Z",
     "start_time": "2025-10-03T06:04:41.360333Z"
    }
   },
   "cell_type": "code",
   "source": [
    "def strategy_1(target: int) -> str:\n",
    "    if target == 0:\n",
    "        return \"True - True\"\n",
    "    elif target < 0:\n",
    "        expr = \"-True\"\n",
    "        for i in range(abs(target) - 1):\n",
    "            expr += \" - True\"\n",
    "        return expr\n",
    "    else:\n",
    "        expr = \"True\"\n",
    "        for i in range(target - 1):\n",
    "            expr += \" + True\"\n",
    "        return expr"
   ],
   "id": "e21525d778b563be",
   "outputs": [],
   "execution_count": 23
  },
  {
   "metadata": {},
   "cell_type": "markdown",
   "source": "Let's give it a go!",
   "id": "179e5b579b3edd38"
  },
  {
   "metadata": {
    "ExecuteTime": {
     "end_time": "2025-10-03T06:04:41.395203Z",
     "start_time": "2025-10-03T06:04:41.385671Z"
    }
   },
   "cell_type": "code",
   "source": [
    "from typing import Callable\n",
    "\n",
    "def test_strategy(func: Callable, test_targets) -> None:\n",
    "    for targ in test_targets:\n",
    "        expr = func(targ)\n",
    "        result = eval(expr)\n",
    "        assert result == targ, f\"Expression '{expr}' does not evaluate to {targ}! Got {result} instead.\"\n",
    "        print(f\"{expr} = {result}\")\n",
    "\n",
    "test_strategy(strategy_1, [2, 5, -3, 20])"
   ],
   "id": "a65fdef3f2e4600c",
   "outputs": [
    {
     "name": "stdout",
     "output_type": "stream",
     "text": [
      "True + True = 2\n",
      "True + True + True + True + True = 5\n",
      "-True - True - True = -3\n",
      "True + True + True + True + True + True + True + True + True + True + True + True + True + True + True + True + True + True + True + True = 20\n"
     ]
    }
   ],
   "execution_count": 24
  },
  {
   "metadata": {},
   "cell_type": "markdown",
   "source": "Ok it works but as expected it isn't the most efficient... I don't think this will cut it for my 8-digit student number.",
   "id": "d1d41fa1fb0b231e"
  },
  {
   "metadata": {},
   "cell_type": "markdown",
   "source": [
    "### Strategy 2: Bit-Shift Boogaloo\n",
    "\n",
    "Let's look into what operators we have available to us. There are a few categories.\n",
    "\n",
    "**Arithmetic**: [+, -, *, **, /, //, and %]. Very useful stuff here! Addition, multiplication and exponentiation help us grow our values at different rates, and other operators can help us reach different values.\n",
    "\n",
    "**Boolean Logic**: [<, >, <=, >=, ==, and !=]. These don't help much because they only evaluate to 0 or 1, which we can already easily make.\n",
    "\n",
    "**Special Stuff**: [@, :=]. Pretty much useless here. To be honest, I had to look up what these even did, but it turns out it's nothing helpful for our puzzle. Here are some links if you are interested: https://stackoverflow.com/a/28997112, https://docs.python.org/3/whatsnew/3.8.html#assignment-expressions\n",
    "\n",
    "**Bitwise Operators**: [<<, >>, &, |, ^, and ~]. These bad boys and girls are the real magic sauce. Highly precise and super versatile.\n",
    "\n",
    "In particular, let's look into a way to construct an arbitrary integer in ~log(n) 'length' complexity using the bit-shift operator, `<<`."
   ],
   "id": "a86dbbc51844b01d"
  },
  {
   "metadata": {
    "ExecuteTime": {
     "end_time": "2025-10-03T06:04:41.508522Z",
     "start_time": "2025-10-03T06:04:41.496720Z"
    }
   },
   "cell_type": "code",
   "source": [
    "def strategy_2_v0(target: int) -> str:\n",
    "    # Convert to binary and cut off \"0b\" prefix\n",
    "    binary_string = bin(target)[2:]\n",
    "    expr = \"\"\n",
    "    num_bits = len(binary_string)\n",
    "    for i, char in enumerate(binary_string):\n",
    "        if char == '1':\n",
    "            expr += f\"(True << {num_bits - i - 1}) + \"\n",
    "    return expr[:-3]  # Chop off trailing \" + \"\n",
    "\n",
    "test_strategy(strategy_2_v0, [2, 5, 20])"
   ],
   "id": "4efeb5bf529cada0",
   "outputs": [
    {
     "name": "stdout",
     "output_type": "stream",
     "text": [
      "(True << 1) = 2\n",
      "(True << 2) + (True << 0) = 5\n",
      "(True << 4) + (True << 2) = 20\n"
     ]
    }
   ],
   "execution_count": 25
  },
  {
   "metadata": {},
   "cell_type": "markdown",
   "source": [
    "This is a good start, but there are several issues.\n",
    "\n",
    "1. It doesn't work with negative numbers you doof!\n",
    "\n",
    "Yeah. I forget the theory for twos complement (how negative integers are represented in bits), so I'll have to figure that out and fix it. Edit: Never mind! I can be lazy about this and just make the absolute value and insert a unary `-` operator in front of the whole thing!\n",
    "\n",
    "2. Even worse -- you're using integer numeric literals!! That's not allowed!!\n",
    "\n",
    "Indeed, but here's where things get interesting. _I've already created a method that can build any arbitrary integer._ So I can create a hybrid method which uses Strategy 1 to create the integers to use in Strategy 2!\n",
    "\n",
    "Later, I'll work on optimizing the method to use whichever method is the fastest to generate each integer.\n",
    "\n",
    "First, let's fix the method to work with negative numbers."
   ],
   "id": "c258ae9d76abb61a"
  },
  {
   "metadata": {
    "ExecuteTime": {
     "end_time": "2025-10-03T06:09:59.128661Z",
     "start_time": "2025-10-03T06:09:59.117543Z"
    }
   },
   "cell_type": "code",
   "source": [
    "def strategy_2_v1(target: int) -> str:\n",
    "    # Convert absolute value to binary and cut off binary prefix\n",
    "    binary_string = bin(abs(target))[2:]  # Prefix is \"0b\"\n",
    "    expr = \"\"\n",
    "\n",
    "    num_bits = len(binary_string)\n",
    "    for i, char in enumerate(binary_string):\n",
    "        if char == '1':\n",
    "            expr += f\"(True << {num_bits - i - 1}) + \"\n",
    "\n",
    "    expr = expr[:-3]  # Chop off trailing \" + \"\n",
    "\n",
    "    if target < 0:\n",
    "        expr = \"-(\" + expr + \")\"  # Invert the sign for negative numbers\n",
    "\n",
    "    return expr\n",
    "\n",
    "test_strategy(strategy_2_v1, [2, 5, -3, 20])"
   ],
   "id": "97853873b69e465c",
   "outputs": [
    {
     "name": "stdout",
     "output_type": "stream",
     "text": [
      "(True << 1) = 2\n",
      "(True << 2) + (True << 0) = 5\n",
      "-((True << 1) + (True << 0)) = -3\n",
      "(True << 4) + (True << 2) = 20\n"
     ]
    }
   ],
   "execution_count": 28
  },
  {
   "metadata": {},
   "cell_type": "markdown",
   "source": [
    "Great! The strategy now works with negative numbers. We use bit shifting on the absolute value, then put back the sign after the fact.\n",
    "\n",
    "Next, let's use the arbitrary integer generation from strategy 1 to replace the integers we use. This completes Strategy 2."
   ],
   "id": "e0d908ab9cbcab0b"
  },
  {
   "metadata": {
    "ExecuteTime": {
     "end_time": "2025-10-03T06:12:51.704153Z",
     "start_time": "2025-10-03T06:12:51.690670Z"
    }
   },
   "cell_type": "code",
   "source": [
    "def strategy_2(target: int) -> str:\n",
    "    # Convert absolute value to binary and cut off binary prefix\n",
    "    binary_string = bin(abs(target))[2:]  # Prefix is \"0b\"\n",
    "    expr = \"\"\n",
    "\n",
    "    num_bits = len(binary_string)\n",
    "    for i, char in enumerate(binary_string):\n",
    "        if char == '1':\n",
    "            bit_shift_count = num_bits - i - 1\n",
    "            expr += f\"(True << {strategy_1(bit_shift_count)}) + \"\n",
    "\n",
    "    expr = expr[:-3]  # Chop off trailing \" + \"\n",
    "\n",
    "    if target < 0:\n",
    "        expr = \"-(\" + expr + \")\"  # Invert the sign for negative numbers\n",
    "\n",
    "    return expr\n",
    "\n",
    "test_strategy(strategy_2, [2, 5, -3, 20])"
   ],
   "id": "e99d31af8f1ba7a0",
   "outputs": [
    {
     "name": "stdout",
     "output_type": "stream",
     "text": [
      "(True << True) = 2\n",
      "(True << True + True) + (True << True - True) = 5\n",
      "-((True << True) + (True << True - True)) = -3\n",
      "(True << True + True + True + True) + (True << True + True) = 20\n"
     ]
    }
   ],
   "execution_count": 29
  },
  {
   "metadata": {},
   "cell_type": "markdown",
   "source": "I think our new function is ready for some tougher numbers. How about an 8-digit number, like 12345678?",
   "id": "5ef91d3d48e4544f"
  },
  {
   "metadata": {
    "ExecuteTime": {
     "end_time": "2025-10-03T06:14:14.603837Z",
     "start_time": "2025-10-03T06:14:14.596970Z"
    }
   },
   "cell_type": "code",
   "source": "test_strategy(strategy_2, [12345678])",
   "id": "748e1022d6956277",
   "outputs": [
    {
     "name": "stdout",
     "output_type": "stream",
     "text": [
      "(True << True + True + True + True + True + True + True + True + True + True + True + True + True + True + True + True + True + True + True + True + True + True + True) + (True << True + True + True + True + True + True + True + True + True + True + True + True + True + True + True + True + True + True + True + True + True) + (True << True + True + True + True + True + True + True + True + True + True + True + True + True + True + True + True + True + True + True + True) + (True << True + True + True + True + True + True + True + True + True + True + True + True + True + True + True + True + True + True + True) + (True << True + True + True + True + True + True + True + True + True + True + True + True + True + True + True + True + True + True) + (True << True + True + True + True + True + True + True + True + True + True + True + True + True + True) + (True << True + True + True + True + True + True + True + True + True + True + True + True + True) + (True << True + True + True + True + True + True + True + True) + (True << True + True + True + True + True + True) + (True << True + True + True) + (True << True + True) + (True << True) = 12345678\n"
     ]
    }
   ],
   "execution_count": 30
  },
  {
   "metadata": {},
   "cell_type": "markdown",
   "source": [
    "Dear god that's not pretty.\n",
    "\n",
    "How many `True`s is that, really?"
   ],
   "id": "59f7c123975ee44a"
  },
  {
   "metadata": {
    "ExecuteTime": {
     "end_time": "2025-10-03T06:16:25.965850Z",
     "start_time": "2025-10-03T06:16:25.950468Z"
    }
   },
   "cell_type": "code",
   "source": [
    "def count_trues(func: Callable, target: int) -> int:\n",
    "    return func(target).count(\"True\")\n",
    "\n",
    "count_trues(strategy_2, 12345678)"
   ],
   "id": "8da04e0a08e4b1f4",
   "outputs": [
    {
     "data": {
      "text/plain": [
       "160"
      ]
     },
     "execution_count": 33,
     "metadata": {},
     "output_type": "execute_result"
    }
   ],
   "execution_count": 33
  },
  {
   "metadata": {},
   "cell_type": "markdown",
   "source": [
    "At least it's better than Strategy 1 by a long shot.\n",
    "\n",
    "I won't try to compute it, but obviously Strategy 1 would have needed 12345678 `True`s to get the job done."
   ],
   "id": "cb444a56f462a647"
  },
  {
   "metadata": {},
   "cell_type": "code",
   "outputs": [],
   "execution_count": null,
   "source": "",
   "id": "c9d75ab09cf21006"
  }
 ],
 "metadata": {
  "kernelspec": {
   "display_name": "Python 3",
   "language": "python",
   "name": "python3"
  },
  "language_info": {
   "codemirror_mode": {
    "name": "ipython",
    "version": 2
   },
   "file_extension": ".py",
   "mimetype": "text/x-python",
   "name": "python",
   "nbconvert_exporter": "python",
   "pygments_lexer": "ipython2",
   "version": "2.7.6"
  }
 },
 "nbformat": 4,
 "nbformat_minor": 5
}
