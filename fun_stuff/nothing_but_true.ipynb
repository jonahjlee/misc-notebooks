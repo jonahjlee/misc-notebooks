{
 "cells": [
  {
   "metadata": {},
   "cell_type": "markdown",
   "source": [
    "# Nothing But `True`\n",
    "\n",
    "## The Hook\n",
    "\n",
    "Here's the idea: the expression `True` in Python evaluates numerically to `1`.\n",
    "\n",
    "I found it quite amusing the first time I saw it. Today, I showed off my pitiful party trick to my friend Coen:"
   ],
   "id": "1d772889e380b201"
  },
  {
   "metadata": {
    "ExecuteTime": {
     "end_time": "2025-10-03T04:36:54.151355Z",
     "start_time": "2025-10-03T04:36:54.143859Z"
    }
   },
   "cell_type": "code",
   "source": "print(True + True)",
   "id": "5e3d861e5d4f8b5a",
   "outputs": [
    {
     "name": "stdout",
     "output_type": "stream",
     "text": [
      "2\n"
     ]
    }
   ],
   "execution_count": 12
  },
  {
   "metadata": {},
   "cell_type": "markdown",
   "source": [
    "2! How silly!\n",
    "\n",
    "But Coen, inspired by the profound boring of Mech 325, had bigger plans.\n",
    "\n",
    "After I played around combining different operators with `True` to print out different numbers, he asked a question that sent me into a math rabbit hole: \"Can you get it to output $e$ (Euler's number) using the limit definition?\"\n",
    "\n",
    "You betcha.\n",
    "\n",
    "So we do our best to construct a big number in place of infinity. I call it 'true' to add to the confusion. Then we can use the expression:\n",
    "\n",
    "$$e = \\lim_{n \\to \\infty} (1 + \\frac1{n})^n$$"
   ],
   "id": "9a5027cc4136553f"
  },
  {
   "metadata": {
    "ExecuteTime": {
     "end_time": "2025-10-03T04:41:34.001943Z",
     "start_time": "2025-10-03T04:41:33.993514Z"
    }
   },
   "cell_type": "code",
   "source": [
    "true = ((True + True) ** (True + True)) ** (True + True)\n",
    "true = (True + True + True + True) ** true\n",
    "\n",
    "(True + True / true) ** true"
   ],
   "id": "e40d74f63e4aff3e",
   "outputs": [
    {
     "data": {
      "text/plain": [
       "2.7182818281425956"
      ]
     },
     "execution_count": 13,
     "metadata": {},
     "output_type": "execute_result"
    }
   ],
   "execution_count": 13
  },
  {
   "metadata": {},
   "cell_type": "markdown",
   "source": [
    "And it works! Close enough.\n",
    "\n",
    "Next we wanted to approximate pi using an infinite sum.\n",
    "\n",
    "Here's the link because I don't feel like typing it out: https://en.wikipedia.org/wiki/Leibniz_formula_for_%CF%80\n",
    "\n",
    "We need two variables here: one for the iteration index, and one to contain the sum. I use 'true' and 'TRUE' as variable names, respectively, in keeping with the deliberately confusing coding style. We had to get creative with the expressions for the large number (used to approximate infinity) since if it was too small the value does not converge nicely and if it is too large it takes forever to run."
   ],
   "id": "9637e9388da539c0"
  },
  {
   "metadata": {
    "ExecuteTime": {
     "end_time": "2025-10-03T04:45:36.389544Z",
     "start_time": "2025-10-03T04:45:34.253636Z"
    }
   },
   "cell_type": "code",
   "source": [
    "true = False\n",
    "TRUE = False\n",
    "while (true < ((True + True) ** (True + True)) ** (True + True) ** (True + True + True)\n",
    "       * (True << (True + True + True + True + True + True))):\n",
    "    TRUE += (False - True) ** true / ((True + True) * true + True)\n",
    "    true += True\n",
    "\n",
    "TRUE * (True + True + True + True)"
   ],
   "id": "5eef5cddbbe30632",
   "outputs": [
    {
     "data": {
      "text/plain": [
       "3.1415924151711234"
      ]
     },
     "execution_count": 15,
     "metadata": {},
     "output_type": "execute_result"
    }
   ],
   "execution_count": 15
  },
  {
   "metadata": {},
   "cell_type": "markdown",
   "source": [
    "Not bad! Feel free to play around with the nuber of loops (the value in the while loop) to see how the value varies.\n",
    "\n",
    "But when we looked to make other numbers, and I suggested trying to construct my 8-digit student number (which I will not disclose), I realized that it is quite tricky to construct a large number with a relatively concise expression involving `True`s.\n",
    "\n",
    "We can grow the value quickly using exponentiation (`**`) and bit-shifting (`<<`), and technically we can make any rational number by just summing `True`s over and over$^\\ast$... But it isn't satisfying.\n",
    "\n",
    "_$^\\ast$ If you forget about floating point precision_"
   ],
   "id": "a95917b8c5a48247"
  },
  {
   "metadata": {},
   "cell_type": "markdown",
   "source": [
    "## The Puzzle\n",
    "\n",
    "Here's the challenge I want to solve: How can we express a number, purely in terms of Python operators and the \"True\" expression. That is, **no literals**!\n",
    "\n",
    "To constrain the problem, let's say we can only use the operators listed in https://docs.python.org/3/reference/lexical_analysis.html#operators, allowing parentheses, and let's aim to be able to construct any **arbitrary integer** with as few `True`s as possible.\n",
    "\n",
    "I used a while loop in my previous approximation for pi, but let's only allow expressions with operators for this problem, to keep things constrained. No variables either.\n",
    "\n",
    "Here are the rules in bullet points:\n",
    "1. Only operators, `True`s and parentheses allowed!\n",
    "2. Any [Python operators](https://docs.python.org/3/reference/lexical_analysis.html#operators) are allowed, unary or binary.\n",
    "3. We must be able to construct any integer.\n",
    "4. Parentheses are allowed at will, but more concise expressions, following spacing conventions, are preferred (let's say as a tiebreaker).\n",
    "\n",
    "\n",
    "Let's move forward with a few strategies."
   ],
   "id": "a02fb7a143ebe232"
  },
  {
   "metadata": {},
   "cell_type": "markdown",
   "source": [
    "### Strategy 1: Just Add Shit Together\n",
    "\n",
    "To start, it's nice to know that we have _some_ strategy that can build any number. Let's just add `True` together repeatedly until we reach the number needed. For negative integers, we can subtract instead. For zero, we can do `True - True`."
   ],
   "id": "74637c12f669284a"
  },
  {
   "metadata": {
    "ExecuteTime": {
     "end_time": "2025-10-03T05:42:34.120174Z",
     "start_time": "2025-10-03T05:42:34.113210Z"
    }
   },
   "cell_type": "code",
   "source": [
    "def strategy_1(target: int) -> str:\n",
    "    if target == 0:\n",
    "        return \"True - True\"\n",
    "    elif target < 0:\n",
    "        expr = \"-True\"\n",
    "        for i in range(abs(target) - 1):\n",
    "            expr += \" - True\"\n",
    "        return expr\n",
    "    else:\n",
    "        expr = \"True\"\n",
    "        for i in range(target - 1):\n",
    "            expr += \" + True\"\n",
    "        return expr"
   ],
   "id": "e21525d778b563be",
   "outputs": [],
   "execution_count": 58
  },
  {
   "metadata": {},
   "cell_type": "markdown",
   "source": "Let's give it a go!",
   "id": "179e5b579b3edd38"
  },
  {
   "metadata": {
    "ExecuteTime": {
     "end_time": "2025-10-03T05:42:34.896881Z",
     "start_time": "2025-10-03T05:42:34.890156Z"
    }
   },
   "cell_type": "code",
   "source": [
    "from typing import Callable\n",
    "\n",
    "def test_strategy(func: Callable, test_targets) -> None:\n",
    "    for targ in test_targets:\n",
    "        expr = func(targ)\n",
    "        result = eval(expr)\n",
    "        assert result == targ\n",
    "        print(f\"{expr} = {result}\")\n",
    "\n",
    "test_strategy(strategy_1, [2, 5, -3, 20])"
   ],
   "id": "a65fdef3f2e4600c",
   "outputs": [
    {
     "name": "stdout",
     "output_type": "stream",
     "text": [
      "True + True = 2\n",
      "True + True + True + True + True = 5\n",
      "-True - True - True = -3\n",
      "True + True + True + True + True + True + True + True + True + True + True + True + True + True + True + True + True + True + True + True = 20\n"
     ]
    }
   ],
   "execution_count": 59
  },
  {
   "metadata": {},
   "cell_type": "markdown",
   "source": "Ok it works but as expected it isn't the most efficient... I don't think this will cut it for my 8-digit student number.",
   "id": "d1d41fa1fb0b231e"
  },
  {
   "metadata": {},
   "cell_type": "markdown",
   "source": [
    "### Strategy 2: Bit-Shift Boogaloo\n",
    "\n",
    "Let's look into what operators we have available to us. There are a few categories.\n",
    "\n",
    "**Arithmetic**: [+, -, *, **, /, //, and %]. Very useful stuff here! Addition, multiplication and exponentiation help us grow our values at different rates, and other operators can help us reach different values.\n",
    "\n",
    "**Boolean Logic**: [<, >, <=, >=, ==, and !=]. These don't help much because they only evaluate to 0 or 1, which we can already easily make.\n",
    "\n",
    "**Special Stuff**: [@, :=]. Pretty much useless here. To be honest, I had to look up what these even did, but it turns out it's nothing helpful for our puzzle. Here are some links if you are interested: https://stackoverflow.com/a/28997112, https://docs.python.org/3/whatsnew/3.8.html#assignment-expressions\n",
    "\n",
    "**Bitwise Operators**: [<<, >>, &, |, ^, and ~]. These bad boys and girls are the real magic sauce. Highly precise and super versatile.\n",
    "\n",
    "In particular, let's look into a way to construct an arbitrary integer in ~log(n) 'length' complexity using the bit-shift operator, `<<`."
   ],
   "id": "a86dbbc51844b01d"
  },
  {
   "metadata": {
    "ExecuteTime": {
     "end_time": "2025-10-03T05:44:18.102595Z",
     "start_time": "2025-10-03T05:44:18.093766Z"
    }
   },
   "cell_type": "code",
   "source": [
    "def strategy_2_v0(target: int) -> str:\n",
    "    # Convert to binary and off \"0b\" prefix\n",
    "    binary_string = bin(target)[2:]\n",
    "    expr = \"\"\n",
    "    num_bits = len(binary_string)\n",
    "    for i, char in enumerate(binary_string):\n",
    "        if char == '1':\n",
    "            expr += f\"(True << {num_bits - i - 1}) + \"\n",
    "    return expr[:-3]  # Chop off trailing \" + \"\n",
    "\n",
    "test_strategy(strategy_2_prototype, [2, 5, 20])"
   ],
   "id": "4efeb5bf529cada0",
   "outputs": [
    {
     "name": "stdout",
     "output_type": "stream",
     "text": [
      "(True << 1) = 2\n",
      "(True << 2) + (True << 0) = 5\n",
      "(True << 4) + (True << 2) = 20\n"
     ]
    }
   ],
   "execution_count": 65
  },
  {
   "metadata": {},
   "cell_type": "markdown",
   "source": [
    "This is a good start, but there are several issues.\n",
    "\n",
    "1. It doesn't work with negative numbers you doof!\n",
    "\n",
    "Yeah. I forget the theory for twos complement (how negative integers are represented in bits), so I'll have to figure that out and fix it.\n",
    "\n",
    "2. Even worse -- you're using integer numeric literals!! That's not allowed!!\n",
    "\n",
    "Indeed, but here's where things get interesting."
   ],
   "id": "c258ae9d76abb61a"
  },
  {
   "metadata": {
    "ExecuteTime": {
     "end_time": "2025-10-03T05:16:07.980442Z",
     "start_time": "2025-10-03T05:16:07.938276Z"
    }
   },
   "cell_type": "code",
   "source": "[[1]] @ [[1]]",
   "id": "97853873b69e465c",
   "outputs": [
    {
     "ename": "TypeError",
     "evalue": "unsupported operand type(s) for @: 'list' and 'list'",
     "output_type": "error",
     "traceback": [
      "\u001B[31m---------------------------------------------------------------------------\u001B[39m",
      "\u001B[31mTypeError\u001B[39m                                 Traceback (most recent call last)",
      "\u001B[36mCell\u001B[39m\u001B[36m \u001B[39m\u001B[32mIn[29]\u001B[39m\u001B[32m, line 1\u001B[39m\n\u001B[32m----> \u001B[39m\u001B[32m1\u001B[39m \u001B[43m[\u001B[49m\u001B[43m[\u001B[49m\u001B[32;43m1\u001B[39;49m\u001B[43m]\u001B[49m\u001B[43m]\u001B[49m\u001B[43m \u001B[49m\u001B[43m@\u001B[49m\u001B[43m \u001B[49m\u001B[43m[\u001B[49m\u001B[43m[\u001B[49m\u001B[32;43m1\u001B[39;49m\u001B[43m]\u001B[49m\u001B[43m]\u001B[49m\n",
      "\u001B[31mTypeError\u001B[39m: unsupported operand type(s) for @: 'list' and 'list'"
     ]
    }
   ],
   "execution_count": 29
  },
  {
   "metadata": {},
   "cell_type": "code",
   "outputs": [],
   "execution_count": null,
   "source": "",
   "id": "e99d31af8f1ba7a0"
  }
 ],
 "metadata": {
  "kernelspec": {
   "display_name": "Python 3",
   "language": "python",
   "name": "python3"
  },
  "language_info": {
   "codemirror_mode": {
    "name": "ipython",
    "version": 2
   },
   "file_extension": ".py",
   "mimetype": "text/x-python",
   "name": "python",
   "nbconvert_exporter": "python",
   "pygments_lexer": "ipython2",
   "version": "2.7.6"
  }
 },
 "nbformat": 4,
 "nbformat_minor": 5
}
