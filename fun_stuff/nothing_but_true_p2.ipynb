{
 "cells": [
  {
   "metadata": {},
   "cell_type": "markdown",
   "source": [
    "# Nothing But `True`: Part 2!\n",
    "\n",
    "## Recap\n",
    "\n",
    "In part one, I defined an optimization puzzle: How can we most concisely express any integer, purely in terms of Python operators and the \"True\" expression?\n",
    "\n",
    "The rules are:\n",
    "1. Only operators, `True`s and parentheses allowed!\n",
    "2. Any [Python operators](https://docs.python.org/3/reference/lexical_analysis.html#operators) are allowed, unary or binary.\n",
    "3. We must be able to construct any integer.\n",
    "4. Parentheses are allowed at will, but more concise expressions, following spacing conventions, are preferred (let's say as a tiebreaker).\n",
    "\n",
    "**Allowed**\n",
    "\n",
    "```\n",
    "(True + True) = 2\n",
    "~(True + True + True) = -4\n",
    "((True + True) ** (True + True + True) ** (True + True)) ^ (True + True) = 514\n",
    "```\n",
    "\n",
    "**Not Allowed**\n",
    "\n",
    "```\n",
    "(True + True) ** 5 = 32\n",
    "\n",
    "total = 0\n",
    "for i in range((True + True + True + True)):\n",
    "    total += i ** i\n",
    "--> total = 33\n",
    "```"
   ],
   "id": "24637ea92866c93e"
  },
  {
   "metadata": {},
   "cell_type": "markdown",
   "source": [
    "Let's lay out some terms:\n",
    "\n",
    "A **strategy** is a method of generating expressions that evaluate to an arbitrary integer **target**. In part 1, we made Strategy 1 which simply adds (or subtracts) `True`s to make any number, and Strategy 2 which used Strategy 1 to shift bits to build any integer from its binary representation.\n",
    "\n",
    "The **score** for a particular strategy _and_ target is the number of `True`s needed to express the target using the given strategy. We are aiming to build a strategy which has scores **as low as possible**.\n",
    "\n",
    "> Can you think of a problem with this scoring approach? I realized the issue last night when doing some experimenting... Hint: Recall we allowed the use of unary operators `~` and `-` (bitwise not and minus). We'll see the problem soon, and then we can revise our scoring technique."
   ],
   "id": "64bb693c9b5b8133"
  },
  {
   "metadata": {},
   "cell_type": "markdown",
   "source": [
    "## Code from Part 1\n",
    "\n",
    "Let's bring back our `strategy_1` and `strategy_2` functions from part 1, as well as our helpers."
   ],
   "id": "1b9b087062e73565"
  },
  {
   "metadata": {
    "ExecuteTime": {
     "end_time": "2025-10-04T06:45:19.958074Z",
     "start_time": "2025-10-04T06:45:18.977440Z"
    }
   },
   "cell_type": "code",
   "source": [
    "import numpy as np\n",
    "import matplotlib.pyplot as plt\n",
    "from typing import Callable\n",
    "\n",
    "def strategy_1(target: int) -> str:\n",
    "    if target == 0:\n",
    "        return \"True - True\"\n",
    "    elif target < 0:\n",
    "        expr = \"-True\"\n",
    "        for i in range(abs(target) - 1):\n",
    "            expr += \" - True\"\n",
    "        return expr\n",
    "    else:\n",
    "        expr = \"True\"\n",
    "        for i in range(target - 1):\n",
    "            expr += \" + True\"\n",
    "        return expr\n",
    "\n",
    "def strategy_2(target: int) -> str:\n",
    "    # Convert absolute value to binary and cut off binary prefix\n",
    "    binary_string = bin(abs(target))[2:]  # Prefix is \"0b\"\n",
    "    expr = \"\"\n",
    "\n",
    "    num_bits = len(binary_string)\n",
    "    for i, char in enumerate(binary_string):\n",
    "        if char == '1':\n",
    "            bit_shift_count = num_bits - i - 1\n",
    "            expr += f\"(True << {strategy_1(bit_shift_count)}) + \"\n",
    "\n",
    "    expr = expr[:-3]  # Chop off trailing \" + \"\n",
    "\n",
    "    if target < 0:\n",
    "        expr = \"-(\" + expr + \")\"  # Invert the sign for negative numbers\n",
    "\n",
    "    return expr\n",
    "\n",
    "def test_strategy(func: Callable, test_targets) -> None:\n",
    "    for targ in test_targets:\n",
    "        expr = func(targ)\n",
    "        result = eval(expr)\n",
    "        assert result == targ, f\"Expression '{expr}' does not evaluate to {targ}! Got {result} instead.\"\n",
    "        print(f\"{expr} = {result}\")\n",
    "\n",
    "def count_trues(func: Callable, target: int) -> int:\n",
    "    return func(target).count(\"True\")"
   ],
   "id": "a22238920e235b18",
   "outputs": [],
   "execution_count": 1
  },
  {
   "metadata": {},
   "cell_type": "markdown",
   "source": [
    "## The Optimal Strategy\n",
    "\n",
    "The strategy I came up with to determine the optimal expression for some targets is as follows.\n",
    "\n",
    "1. We already have a 'base case': we can make the number 1 with the expression `\"True\"`.\n",
    "2. Any other expression is going to use some unary or binary operators on our base case. So we can compute all the values we can reach using our operators on our base case, and the score of the resulting target obtained is equal to the sum of the scores of the operands. For example, we can reach the target `-1` by doing the unary operation `-` on `1`: `-True = -1`. Since a score must be at least 1, we know this must be at least tied for the best way to obtain `-1`. We can continue to look for minimal-score combinations of our existing targets and operators to build up more optimal combos."
   ],
   "id": "d8e35323ad31eb5b"
  },
  {
   "metadata": {},
   "cell_type": "markdown",
   "source": "First, let's collect all the operators we want to use. I'll discard special and boolean operators because, as we discussed in part 1, they will not be useful.",
   "id": "10fab9c4b92124fd"
  },
  {
   "metadata": {
    "ExecuteTime": {
     "end_time": "2025-10-04T06:45:19.972273Z",
     "start_time": "2025-10-04T06:45:19.967275Z"
    }
   },
   "cell_type": "code",
   "source": [
    "arithmetic_operators = ['+', '-', '*', '**', '/', '//', '%']\n",
    "bitwise_operators = ['<<', '>>', '&', '|', '^', '~']"
   ],
   "id": "8a37ee9b826264f6",
   "outputs": [],
   "execution_count": 2
  },
  {
   "metadata": {},
   "cell_type": "markdown",
   "source": [
    "We can group them into unary and binary operators. I'll also distinguish commutative and non-commutative binary operators.\n",
    "\n",
    "Here, I will also discard the '`/`' (non-integer division) operator since it allows us to obtain non-integers from integers. We don't lose any functionality since the integer division '`//`' operator does the same thing when the operands are valid. All other operators return integers when their operands are both integers."
   ],
   "id": "d7cc079d721567d8"
  },
  {
   "metadata": {
    "ExecuteTime": {
     "end_time": "2025-10-04T06:45:19.986235Z",
     "start_time": "2025-10-04T06:45:19.980946Z"
    }
   },
   "cell_type": "code",
   "source": [
    "unary_operators = ['-', '~']\n",
    "binary_non_commutative = ['<<', '>>', '-', '**', '//', '%']  # '/' removed\n",
    "binary_commutative = ['+', '*', '&', '|', '^']"
   ],
   "id": "187e50f56fafdcc0",
   "outputs": [],
   "execution_count": 3
  },
  {
   "metadata": {},
   "cell_type": "markdown",
   "source": [
    "Let's make a script which tracks optimal expressions in a certain data structure.\n",
    "\n",
    "I've opted to use a list[dict[int,str]].\n",
    "\n",
    "The index in the main list corresponds to the **minimum score** of the target.\n",
    "\n",
    "The key in the dictionary corresponds to the value of the **target**.\n",
    "\n",
    "The value in the dictionary, for a given target, is the string **expression** which evaluates to the target."
   ],
   "id": "78561ea3cdbdcc90"
  },
  {
   "metadata": {},
   "cell_type": "markdown",
   "source": "First, let's calculate all of the targets we can reach with only unary operators. These targets will all have a score of 1.",
   "id": "87978c4fdf3bccf6"
  },
  {
   "metadata": {
    "ExecuteTime": {
     "end_time": "2025-10-04T06:45:20.000732Z",
     "start_time": "2025-10-04T06:45:19.993188Z"
    }
   },
   "cell_type": "code",
   "source": [
    "def get_new_targs_unary(exprs: list[dict[int, str]]) -> list[dict[int, str]]:\n",
    "    new_exprs: list[dict[int, str]] = [{}] # mutable to store the new stuff\n",
    "\n",
    "    # Iterate over all targs in dict, at all s-values\n",
    "    for i, min_s_targs in enumerate(exprs):\n",
    "        s_val = i + 1\n",
    "        for targ, expr in min_s_targs.items():\n",
    "\n",
    "            # Determine all outputs of unary operators\n",
    "            for u_op in unary_operators:\n",
    "\n",
    "                # Determine what target we get to using this operator on the given targ\n",
    "                new_expr = f\"{u_op}{expr}\"\n",
    "                new_targ = eval(new_expr)\n",
    "                new_targ_s_val = s_val\n",
    "                print(f\"Reached target {new_targ} with score {new_targ_s_val}\")\n",
    "\n",
    "                # Add the new target to the new_exprs dictionary\n",
    "                new_exprs[new_targ_s_val - 1].update({new_targ: new_expr})\n",
    "\n",
    "        return new_exprs"
   ],
   "id": "f7df392420017b19",
   "outputs": [],
   "execution_count": 4
  },
  {
   "metadata": {
    "ExecuteTime": {
     "end_time": "2025-10-04T06:45:20.014352Z",
     "start_time": "2025-10-04T06:45:20.008457Z"
    }
   },
   "cell_type": "code",
   "source": [
    "import warnings\n",
    "# Python doesn't like it when you do ~True, because it thinks you're doing it by mistake! I am not.\n",
    "warnings.filterwarnings(\"ignore\", category=DeprecationWarning)"
   ],
   "id": "1803d0e968044423",
   "outputs": [],
   "execution_count": 5
  },
  {
   "metadata": {
    "ExecuteTime": {
     "end_time": "2025-10-04T06:45:20.036616Z",
     "start_time": "2025-10-04T06:45:20.025544Z"
    }
   },
   "cell_type": "code",
   "source": [
    "min_s_expressions_iters = [[{1: \"True\"}]] # start with the base case, iter 0\n",
    "\n",
    "iters = 10\n",
    "for i in range(iters):\n",
    "\n",
    "    prev_min_s_expressions = min_s_expressions_iters[-1] # the min s expressions found in the last iteration\n",
    "\n",
    "    new_min_s_expressions = get_new_targs_unary(prev_min_s_expressions)\n",
    "\n",
    "    print(\"Newly found expressions: \", new_min_s_expressions)\n",
    "\n",
    "    min_s_expressions_iters.append(new_min_s_expressions)"
   ],
   "id": "b5451d004139585e",
   "outputs": [
    {
     "name": "stdout",
     "output_type": "stream",
     "text": [
      "Reached target -1 with score 1\n",
      "Reached target -2 with score 1\n",
      "Newly found expressions:  [{-1: '-True', -2: '~True'}]\n",
      "Reached target 1 with score 1\n",
      "Reached target 0 with score 1\n",
      "Reached target 2 with score 1\n",
      "Reached target 1 with score 1\n",
      "Newly found expressions:  [{1: '~~True', 0: '~-True', 2: '-~True'}]\n",
      "Reached target -1 with score 1\n",
      "Reached target -2 with score 1\n",
      "Reached target 0 with score 1\n",
      "Reached target -1 with score 1\n",
      "Reached target -2 with score 1\n",
      "Reached target -3 with score 1\n",
      "Newly found expressions:  [{-1: '~~-True', -2: '--~True', 0: '-~-True', -3: '~-~True'}]\n",
      "Reached target 1 with score 1\n",
      "Reached target 0 with score 1\n",
      "Reached target 2 with score 1\n",
      "Reached target 1 with score 1\n",
      "Reached target 0 with score 1\n",
      "Reached target -1 with score 1\n",
      "Reached target 3 with score 1\n",
      "Reached target 2 with score 1\n",
      "Newly found expressions:  [{1: '~--~True', 0: '--~-True', 2: '~~-~True', -1: '~-~-True', 3: '-~-~True'}]\n",
      "Reached target -1 with score 1\n",
      "Reached target -2 with score 1\n",
      "Reached target 0 with score 1\n",
      "Reached target -1 with score 1\n",
      "Reached target -2 with score 1\n",
      "Reached target -3 with score 1\n",
      "Reached target 1 with score 1\n",
      "Reached target 0 with score 1\n",
      "Reached target -3 with score 1\n",
      "Reached target -4 with score 1\n",
      "Newly found expressions:  [{-1: '~--~-True', -2: '-~~-~True', 0: '~~-~-True', -3: '--~-~True', 1: '-~-~-True', -4: '~-~-~True'}]\n",
      "Reached target 1 with score 1\n",
      "Reached target 0 with score 1\n",
      "Reached target 2 with score 1\n",
      "Reached target 1 with score 1\n",
      "Reached target 0 with score 1\n",
      "Reached target -1 with score 1\n",
      "Reached target 3 with score 1\n",
      "Reached target 2 with score 1\n",
      "Reached target -1 with score 1\n",
      "Reached target -2 with score 1\n",
      "Reached target 4 with score 1\n",
      "Reached target 3 with score 1\n",
      "Newly found expressions:  [{1: '~-~~-~True', 0: '-~~-~-True', 2: '~--~-~True', -1: '--~-~-True', 3: '~~-~-~True', -2: '~-~-~-True', 4: '-~-~-~True'}]\n",
      "Reached target -1 with score 1\n",
      "Reached target -2 with score 1\n",
      "Reached target 0 with score 1\n",
      "Reached target -1 with score 1\n",
      "Reached target -2 with score 1\n",
      "Reached target -3 with score 1\n",
      "Reached target 1 with score 1\n",
      "Reached target 0 with score 1\n",
      "Reached target -3 with score 1\n",
      "Reached target -4 with score 1\n",
      "Reached target 2 with score 1\n",
      "Reached target 1 with score 1\n",
      "Reached target -4 with score 1\n",
      "Reached target -5 with score 1\n",
      "Newly found expressions:  [{-1: '~-~~-~-True', -2: '-~--~-~True', 0: '~--~-~-True', -3: '-~~-~-~True', 1: '~~-~-~-True', -4: '--~-~-~True', 2: '-~-~-~-True', -5: '~-~-~-~True'}]\n",
      "Reached target 1 with score 1\n",
      "Reached target 0 with score 1\n",
      "Reached target 2 with score 1\n",
      "Reached target 1 with score 1\n",
      "Reached target 0 with score 1\n",
      "Reached target -1 with score 1\n",
      "Reached target 3 with score 1\n",
      "Reached target 2 with score 1\n",
      "Reached target -1 with score 1\n",
      "Reached target -2 with score 1\n",
      "Reached target 4 with score 1\n",
      "Reached target 3 with score 1\n",
      "Reached target -2 with score 1\n",
      "Reached target -3 with score 1\n",
      "Reached target 5 with score 1\n",
      "Reached target 4 with score 1\n",
      "Newly found expressions:  [{1: '~-~--~-~True', 0: '-~--~-~-True', 2: '~-~~-~-~True', -1: '-~~-~-~-True', 3: '~--~-~-~True', -2: '--~-~-~-True', 4: '~~-~-~-~True', -3: '~-~-~-~-True', 5: '-~-~-~-~True'}]\n",
      "Reached target -1 with score 1\n",
      "Reached target -2 with score 1\n",
      "Reached target 0 with score 1\n",
      "Reached target -1 with score 1\n",
      "Reached target -2 with score 1\n",
      "Reached target -3 with score 1\n",
      "Reached target 1 with score 1\n",
      "Reached target 0 with score 1\n",
      "Reached target -3 with score 1\n",
      "Reached target -4 with score 1\n",
      "Reached target 2 with score 1\n",
      "Reached target 1 with score 1\n",
      "Reached target -4 with score 1\n",
      "Reached target -5 with score 1\n",
      "Reached target 3 with score 1\n",
      "Reached target 2 with score 1\n",
      "Reached target -5 with score 1\n",
      "Reached target -6 with score 1\n",
      "Newly found expressions:  [{-1: '~-~--~-~-True', -2: '-~-~~-~-~True', 0: '~-~~-~-~-True', -3: '-~--~-~-~True', 1: '~--~-~-~-True', -4: '-~~-~-~-~True', 2: '~~-~-~-~-True', -5: '--~-~-~-~True', 3: '-~-~-~-~-True', -6: '~-~-~-~-~True'}]\n",
      "Reached target 1 with score 1\n",
      "Reached target 0 with score 1\n",
      "Reached target 2 with score 1\n",
      "Reached target 1 with score 1\n",
      "Reached target 0 with score 1\n",
      "Reached target -1 with score 1\n",
      "Reached target 3 with score 1\n",
      "Reached target 2 with score 1\n",
      "Reached target -1 with score 1\n",
      "Reached target -2 with score 1\n",
      "Reached target 4 with score 1\n",
      "Reached target 3 with score 1\n",
      "Reached target -2 with score 1\n",
      "Reached target -3 with score 1\n",
      "Reached target 5 with score 1\n",
      "Reached target 4 with score 1\n",
      "Reached target -3 with score 1\n",
      "Reached target -4 with score 1\n",
      "Reached target 6 with score 1\n",
      "Reached target 5 with score 1\n",
      "Newly found expressions:  [{1: '~-~-~~-~-~True', 0: '-~-~~-~-~-True', 2: '~-~--~-~-~True', -1: '-~--~-~-~-True', 3: '~-~~-~-~-~True', -2: '-~~-~-~-~-True', 4: '~--~-~-~-~True', -3: '--~-~-~-~-True', 5: '~~-~-~-~-~True', -4: '~-~-~-~-~-True', 6: '-~-~-~-~-~True'}]\n"
     ]
    }
   ],
   "execution_count": 6
  },
  {
   "metadata": {},
   "cell_type": "markdown",
   "source": "With only 10 iterations, we found a bunch of new targets using only unary operators! Let's combine the results from all the iterations, and take the shortest strings if there are ties",
   "id": "dcde0ba534af95ff"
  },
  {
   "metadata": {
    "ExecuteTime": {
     "end_time": "2025-10-04T06:58:48.822864Z",
     "start_time": "2025-10-04T06:58:48.808381Z"
    }
   },
   "cell_type": "code",
   "source": [
    "def merge_dicts_with_shortest_string(dict1, dict2):\n",
    "    \"\"\"\n",
    "    Merges two dictionaries with int keys and str values.\n",
    "    In case of key conflicts, the shortest string is kept.\n",
    "    \"\"\"\n",
    "    merged_dict = dict1.copy()  # Start with a copy of the first dictionary\n",
    "\n",
    "    for key, value in dict2.items():\n",
    "        # If the key exists in both dictionaries, choose the shortest string\n",
    "        if key in merged_dict:\n",
    "            merged_dict[key] = min(merged_dict[key], value, key=len)\n",
    "        else:\n",
    "            merged_dict[key] = value\n",
    "\n",
    "    return merged_dict\n",
    "\n",
    "all_min_s_expressions = []\n",
    "\n",
    "for iter in min_s_expressions_iters:\n",
    "    for i, dict in enumerate(iter):\n",
    "        if len(all_min_s_expressions) < len(iter):\n",
    "            # no corresponding dict exists yet\n",
    "            all_min_s_expressions.append(dict)\n",
    "        else:\n",
    "            all_min_s_expressions[i] = merge_dicts_with_shortest_string(dict, all_min_s_expressions[i])\n",
    "\n",
    "print(\"All found expressions: \", all_min_s_expressions)"
   ],
   "id": "bb017e7f32c984fd",
   "outputs": [
    {
     "name": "stdout",
     "output_type": "stream",
     "text": [
      "All found expressions:  [{1: 'True', 0: '~-True', 2: '-~True', -1: '-True', 3: '-~-~True', -2: '~True', 4: '-~-~-~True', -3: '~-~True', 5: '-~-~-~-~True', -4: '~-~-~True', 6: '-~-~-~-~-~True', -5: '~-~-~-~True', -6: '~-~-~-~-~True'}]\n"
     ]
    }
   ],
   "execution_count": 8
  },
  {
   "metadata": {},
   "cell_type": "markdown",
   "source": [
    "I imagine you can see the critical problem now. Our system figures out that **you can actually make any integer by just prepending alternating `-` and `~` operators before the `True`!**\n",
    "\n",
    "I think this is a pretty awesome outcome, but it kind of breaks the game.\n",
    "\n",
    "## A Better Scoring System\n",
    "\n",
    "Maybe you were thinking this from the start, but it's certainly clear now that we need to minimize the use of operators as well as `True`s. The new scoring will be simple: we still allow any number of parentheses, but we score based on `True`s + operators.\n",
    "\n",
    "At this point, it's becoming clearer that a more structured approach is needed for the optimization, so I'll create a better data structure to track the min-s (minimum score) expressions and optimize them."
   ],
   "id": "41d718601f3a9175"
  },
  {
   "metadata": {},
   "cell_type": "markdown",
   "source": [
    "# Operators\n",
    "\n",
    "To start our more organized code, let's define some operators as enums in OOP. This clearly defines all avaliable operators."
   ],
   "id": "8c037c0313afb2a7"
  },
  {
   "metadata": {
    "ExecuteTime": {
     "end_time": "2025-10-19T06:46:34.326930Z",
     "start_time": "2025-10-19T06:46:34.312375Z"
    }
   },
   "cell_type": "code",
   "source": [
    "from enum import Enum\n",
    "\n",
    "class Operator(Enum):\n",
    "    pass # subclasses distinguish unary/binary\n",
    "\n",
    "class UnaryOperator(Operator):\n",
    "    MINUS = '-'\n",
    "    BITWISE_NOT = '~'\n",
    "\n",
    "class BinaryOperator(Operator):\n",
    "    pass # subclasses distinguish commutative/noncommutative\n",
    "\n",
    "class BinaryNonCommutativeOperator(BinaryOperator):\n",
    "    BIT_SHIFT_LEFT = '<<'\n",
    "    BIT_SHIFT_RIGHT = '>>'\n",
    "    SUBTRACT = '-'\n",
    "    EXPONENTIATE = '**'\n",
    "    INT_DIVIDE = '//'\n",
    "    MODULO = '%'\n",
    "\n",
    "class BinaryCommutativeOperator(BinaryOperator):\n",
    "    ADD = '+'\n",
    "    MULTIPLY = '*'\n",
    "    BITWISE_AND = '&'\n",
    "    BITWISE_OR = '|'\n",
    "    BITWISE_XOR = '^'"
   ],
   "id": "af8f2c937b5cf29",
   "outputs": [],
   "execution_count": 11
  },
  {
   "metadata": {
    "ExecuteTime": {
     "end_time": "2025-10-19T07:44:13.030345Z",
     "start_time": "2025-10-19T07:44:13.017355Z"
    }
   },
   "cell_type": "code",
   "source": [
    "from typing import Union\n",
    "\n",
    "class Expression:\n",
    "    \"\"\"A string expression that evaluates to an integer.\"\"\"\n",
    "\n",
    "    def __init__(self, string: str) -> None:\n",
    "        if type(self) is Expression:\n",
    "            raise TypeError(\"Expression cannot be instantiated directly.\")\n",
    "        self._string: str = string\n",
    "\n",
    "    def evaluate(self) -> int:\n",
    "        \"\"\"Evaluate the expression and return an integer.\"\"\"\n",
    "        return int(eval(self._string))\n",
    "\n",
    "    def __str__(self):\n",
    "        return self._string\n",
    "\n",
    "class TrueExpression(Expression):\n",
    "    \"\"\"Base case expression. Evaluates to 1.\"\"\"\n",
    "\n",
    "    def __init__(self) -> None:\n",
    "        super().__init__('True')\n",
    "\n",
    "class CompositeExpression(Expression):\n",
    "    \"\"\"Composite expression, composed of at least one operator and one expression.\"\"\"\n",
    "\n",
    "    def __init__(self,\n",
    "                 operator: Union[UnaryOperator, BinaryOperator],\n",
    "                 expr_1: Expression,\n",
    "                 expr_2: Expression = None) -> None:\n",
    "        \"\"\"Instantiate a CompositeExpression either from a unary or binary operator.\"\"\"\n",
    "        if expr_2 is None:  # Unary operator case\n",
    "            if not isinstance(operator, UnaryOperator):\n",
    "                raise TypeError(\"Operator is binary, but only one expression was given!\")\n",
    "            self._string = f\"{operator.value}({expr_1._string})\"\n",
    "        else:  # Binary operator case\n",
    "            if not isinstance(operator, BinaryOperator):\n",
    "                raise TypeError(\"Operator is unary, but two expressions were given!\")\n",
    "            self._string = f\"({expr_1._string}) {operator.value} ({expr_2._string})\"\n",
    "\n",
    "        super().__init__(self._string)"
   ],
   "id": "571346ca7799ca92",
   "outputs": [],
   "execution_count": 31
  },
  {
   "metadata": {},
   "cell_type": "markdown",
   "source": [
    "We've now defined a clear structure and definition for operators and expressions.\n",
    "\n",
    "Expressions are composed of either:\n",
    "- Just the expression for 'True' (this is a sort of recursive base case)\n",
    "- A unary operator acting on an expression\n",
    "- A binary operator acting on two expressions"
   ],
   "id": "5e59433752cce0c6"
  },
  {
   "metadata": {
    "ExecuteTime": {
     "end_time": "2025-10-19T07:44:13.986329Z",
     "start_time": "2025-10-19T07:44:13.975554Z"
    }
   },
   "cell_type": "code",
   "source": [
    "t = TrueExpression()\n",
    "print(f\"{t} = {t.evaluate()}\")\n",
    "\n",
    "e1 = CompositeExpression(UnaryOperator.MINUS, t)\n",
    "print(f\"{e1} = {e1.evaluate()}\")\n",
    "\n",
    "# FAILS - negative shift count!\n",
    "# e2 = CompositeExpression(BinaryNonCommutativeOperator.BIT_SHIFT_LEFT, t, e1)\n",
    "# print(f\"{e2} = {e2.evaluate()}\")\n",
    "\n",
    "e2 = CompositeExpression(BinaryNonCommutativeOperator.BIT_SHIFT_LEFT, e1, t)\n",
    "print(f\"{e2} = {e2.evaluate()}\")"
   ],
   "id": "ab480a8690858f88",
   "outputs": [
    {
     "name": "stdout",
     "output_type": "stream",
     "text": [
      "True = 1\n",
      "-(True) = -1\n",
      "(-(True)) << (True) = -2\n"
     ]
    }
   ],
   "execution_count": 32
  },
  {
   "metadata": {},
   "cell_type": "markdown",
   "source": [
    "Unfortunately, it seems that a negative bit shift is not possible. I had assumed that these operators would be able to take in any operands, but it seems I was wrong.\n",
    "\n",
    "There are a few ways to solve this problem:\n",
    "1. Discard the bit shift operators altogether\n",
    "2. Construct a new custom bit shift operator which consolidates left and right bit shifts, and then chooses the right string based on the sign\n",
    "3. Deal with this as possible error case, and use try/except blocks when evaluating expressions\n",
    "\n",
    "I don't like method one since I want to use all the available operators. Method two could be good, but it would work better with an approach which didn't depend on strings as the underlying expression representation. Maybe this would be better, but I'll play around with this idea later."
   ],
   "id": "b37b71e41b974e76"
  },
  {
   "metadata": {
    "ExecuteTime": {
     "end_time": "2025-10-19T09:00:15.656029Z",
     "start_time": "2025-10-19T09:00:15.626274Z"
    }
   },
   "cell_type": "code",
   "source": "(True)<<((True)<<(-((~(True))<<(-(~(True))))))",
   "id": "43cdcdca1e9263cc",
   "outputs": [
    {
     "data": {
      "text/plain": [
       "115792089237316195423570985008687907853269984665640564039457584007913129639936"
      ]
     },
     "execution_count": 33,
     "metadata": {},
     "output_type": "execute_result"
    }
   ],
   "execution_count": 33
  },
  {
   "metadata": {},
   "cell_type": "code",
   "outputs": [],
   "execution_count": null,
   "source": "",
   "id": "f4bf52d825e98820"
  }
 ],
 "metadata": {
  "kernelspec": {
   "display_name": "Python 3",
   "language": "python",
   "name": "python3"
  },
  "language_info": {
   "codemirror_mode": {
    "name": "ipython",
    "version": 2
   },
   "file_extension": ".py",
   "mimetype": "text/x-python",
   "name": "python",
   "nbconvert_exporter": "python",
   "pygments_lexer": "ipython2",
   "version": "2.7.6"
  }
 },
 "nbformat": 4,
 "nbformat_minor": 5
}
